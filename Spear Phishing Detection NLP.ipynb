{
  "cells": [
    {
      "cell_type": "markdown",
      "metadata": {
        "id": "view-in-github",
        "colab_type": "text"
      },
      "source": [
        "<a href=\"https://colab.research.google.com/github/sizeof-malloc/Proyecto-Spear-Phishing/blob/main/Spear%20Phishing%20Detection%20NLP.ipynb\" target=\"_parent\"><img src=\"https://colab.research.google.com/assets/colab-badge.svg\" alt=\"Open In Colab\"/></a>"
      ]
    },
    {
      "cell_type": "markdown",
      "metadata": {
        "id": "3F_5xqK-Ld2F"
      },
      "source": [
        "# Seccion 2"
      ]
    },
    {
      "cell_type": "markdown",
      "metadata": {
        "id": "g_9vWkgTcd6r"
      },
      "source": [
        "<p>Esta sección describe la carga de un conjunto de datos</p>"
      ]
    },
    {
      "cell_type": "markdown",
      "metadata": {
        "id": "oL3UK_ILcd9b"
      },
      "source": [
        "Tamaño del conjunto de datos $\\mathbb{R}^{11928 \\times 2}$"
      ]
    },
    {
      "cell_type": "code",
      "execution_count": null,
      "metadata": {
        "id": "m9W4myf6M3_J"
      },
      "outputs": [],
      "source": [
        "import pandas as pd\n",
        "\n",
        "url = \"https://raw.githubusercontent.com/sizeof-malloc/Proyecto-Spear-Phishing/main/fraud_email_.csv\"\n",
        "df = pd.read_csv(url)\n",
        "df = df.dropna() \n",
        "y = df['Class'].values\n",
        "X = df['Text']"
      ]
    },
    {
      "cell_type": "code",
      "execution_count": null,
      "metadata": {
        "colab": {
          "base_uri": "https://localhost:8080/",
          "height": 426
        },
        "id": "_w176Kfh92ui",
        "outputId": "e5642fa9-8350-49c4-dd9d-1bc34951628a"
      },
      "outputs": [
        {
          "output_type": "execute_result",
          "data": {
            "text/plain": [
              "                                                 Text  Class\n",
              "0   Supply Quality China's EXCLUSIVE dimensions at...      1\n",
              "1                          over. SidLet me know. Thx.      0\n",
              "2   Dear Friend,Greetings to you.I wish to accost ...      1\n",
              "3   MR. CHEUNG PUIHANG SENG BANK LTD.DES VOEUX RD....      1\n",
              "4           Not a surprising assessment from Embassy.      0\n",
              "5   Monica -Huma Abedin <Huma@clintonemail.com>Tue...      0\n",
              "6   Pis print.H <hrod17@clintonemail.com>Thursday ...      0\n",
              "7   Dear Tom--H <hrod17@clintonemail.com>Friday De...      0\n",
              "8   Greetings from barrister Robert Williams=2CDea...      1\n",
              "9   FYI. Thanks again for signing the book ---- an...      0\n",
              "10  Pls putRELEASE IN PARTB6H <hrod17@clintonemail...      0\n",
              "11  Not sure about SRAP. I'll forward it on. Hope ...      0"
            ],
            "text/html": [
              "\n",
              "  <div id=\"df-d7ca70e0-ad74-48a6-a3b3-f86564db87cb\">\n",
              "    <div class=\"colab-df-container\">\n",
              "      <div>\n",
              "<style scoped>\n",
              "    .dataframe tbody tr th:only-of-type {\n",
              "        vertical-align: middle;\n",
              "    }\n",
              "\n",
              "    .dataframe tbody tr th {\n",
              "        vertical-align: top;\n",
              "    }\n",
              "\n",
              "    .dataframe thead th {\n",
              "        text-align: right;\n",
              "    }\n",
              "</style>\n",
              "<table border=\"1\" class=\"dataframe\">\n",
              "  <thead>\n",
              "    <tr style=\"text-align: right;\">\n",
              "      <th></th>\n",
              "      <th>Text</th>\n",
              "      <th>Class</th>\n",
              "    </tr>\n",
              "  </thead>\n",
              "  <tbody>\n",
              "    <tr>\n",
              "      <th>0</th>\n",
              "      <td>Supply Quality China's EXCLUSIVE dimensions at...</td>\n",
              "      <td>1</td>\n",
              "    </tr>\n",
              "    <tr>\n",
              "      <th>1</th>\n",
              "      <td>over. SidLet me know. Thx.</td>\n",
              "      <td>0</td>\n",
              "    </tr>\n",
              "    <tr>\n",
              "      <th>2</th>\n",
              "      <td>Dear Friend,Greetings to you.I wish to accost ...</td>\n",
              "      <td>1</td>\n",
              "    </tr>\n",
              "    <tr>\n",
              "      <th>3</th>\n",
              "      <td>MR. CHEUNG PUIHANG SENG BANK LTD.DES VOEUX RD....</td>\n",
              "      <td>1</td>\n",
              "    </tr>\n",
              "    <tr>\n",
              "      <th>4</th>\n",
              "      <td>Not a surprising assessment from Embassy.</td>\n",
              "      <td>0</td>\n",
              "    </tr>\n",
              "    <tr>\n",
              "      <th>5</th>\n",
              "      <td>Monica -Huma Abedin &lt;Huma@clintonemail.com&gt;Tue...</td>\n",
              "      <td>0</td>\n",
              "    </tr>\n",
              "    <tr>\n",
              "      <th>6</th>\n",
              "      <td>Pis print.H &lt;hrod17@clintonemail.com&gt;Thursday ...</td>\n",
              "      <td>0</td>\n",
              "    </tr>\n",
              "    <tr>\n",
              "      <th>7</th>\n",
              "      <td>Dear Tom--H &lt;hrod17@clintonemail.com&gt;Friday De...</td>\n",
              "      <td>0</td>\n",
              "    </tr>\n",
              "    <tr>\n",
              "      <th>8</th>\n",
              "      <td>Greetings from barrister Robert Williams=2CDea...</td>\n",
              "      <td>1</td>\n",
              "    </tr>\n",
              "    <tr>\n",
              "      <th>9</th>\n",
              "      <td>FYI. Thanks again for signing the book ---- an...</td>\n",
              "      <td>0</td>\n",
              "    </tr>\n",
              "    <tr>\n",
              "      <th>10</th>\n",
              "      <td>Pls putRELEASE IN PARTB6H &lt;hrod17@clintonemail...</td>\n",
              "      <td>0</td>\n",
              "    </tr>\n",
              "    <tr>\n",
              "      <th>11</th>\n",
              "      <td>Not sure about SRAP. I'll forward it on. Hope ...</td>\n",
              "      <td>0</td>\n",
              "    </tr>\n",
              "  </tbody>\n",
              "</table>\n",
              "</div>\n",
              "      <button class=\"colab-df-convert\" onclick=\"convertToInteractive('df-d7ca70e0-ad74-48a6-a3b3-f86564db87cb')\"\n",
              "              title=\"Convert this dataframe to an interactive table.\"\n",
              "              style=\"display:none;\">\n",
              "        \n",
              "  <svg xmlns=\"http://www.w3.org/2000/svg\" height=\"24px\"viewBox=\"0 0 24 24\"\n",
              "       width=\"24px\">\n",
              "    <path d=\"M0 0h24v24H0V0z\" fill=\"none\"/>\n",
              "    <path d=\"M18.56 5.44l.94 2.06.94-2.06 2.06-.94-2.06-.94-.94-2.06-.94 2.06-2.06.94zm-11 1L8.5 8.5l.94-2.06 2.06-.94-2.06-.94L8.5 2.5l-.94 2.06-2.06.94zm10 10l.94 2.06.94-2.06 2.06-.94-2.06-.94-.94-2.06-.94 2.06-2.06.94z\"/><path d=\"M17.41 7.96l-1.37-1.37c-.4-.4-.92-.59-1.43-.59-.52 0-1.04.2-1.43.59L10.3 9.45l-7.72 7.72c-.78.78-.78 2.05 0 2.83L4 21.41c.39.39.9.59 1.41.59.51 0 1.02-.2 1.41-.59l7.78-7.78 2.81-2.81c.8-.78.8-2.07 0-2.86zM5.41 20L4 18.59l7.72-7.72 1.47 1.35L5.41 20z\"/>\n",
              "  </svg>\n",
              "      </button>\n",
              "      \n",
              "  <style>\n",
              "    .colab-df-container {\n",
              "      display:flex;\n",
              "      flex-wrap:wrap;\n",
              "      gap: 12px;\n",
              "    }\n",
              "\n",
              "    .colab-df-convert {\n",
              "      background-color: #E8F0FE;\n",
              "      border: none;\n",
              "      border-radius: 50%;\n",
              "      cursor: pointer;\n",
              "      display: none;\n",
              "      fill: #1967D2;\n",
              "      height: 32px;\n",
              "      padding: 0 0 0 0;\n",
              "      width: 32px;\n",
              "    }\n",
              "\n",
              "    .colab-df-convert:hover {\n",
              "      background-color: #E2EBFA;\n",
              "      box-shadow: 0px 1px 2px rgba(60, 64, 67, 0.3), 0px 1px 3px 1px rgba(60, 64, 67, 0.15);\n",
              "      fill: #174EA6;\n",
              "    }\n",
              "\n",
              "    [theme=dark] .colab-df-convert {\n",
              "      background-color: #3B4455;\n",
              "      fill: #D2E3FC;\n",
              "    }\n",
              "\n",
              "    [theme=dark] .colab-df-convert:hover {\n",
              "      background-color: #434B5C;\n",
              "      box-shadow: 0px 1px 3px 1px rgba(0, 0, 0, 0.15);\n",
              "      filter: drop-shadow(0px 1px 2px rgba(0, 0, 0, 0.3));\n",
              "      fill: #FFFFFF;\n",
              "    }\n",
              "  </style>\n",
              "\n",
              "      <script>\n",
              "        const buttonEl =\n",
              "          document.querySelector('#df-d7ca70e0-ad74-48a6-a3b3-f86564db87cb button.colab-df-convert');\n",
              "        buttonEl.style.display =\n",
              "          google.colab.kernel.accessAllowed ? 'block' : 'none';\n",
              "\n",
              "        async function convertToInteractive(key) {\n",
              "          const element = document.querySelector('#df-d7ca70e0-ad74-48a6-a3b3-f86564db87cb');\n",
              "          const dataTable =\n",
              "            await google.colab.kernel.invokeFunction('convertToInteractive',\n",
              "                                                     [key], {});\n",
              "          if (!dataTable) return;\n",
              "\n",
              "          const docLinkHtml = 'Like what you see? Visit the ' +\n",
              "            '<a target=\"_blank\" href=https://colab.research.google.com/notebooks/data_table.ipynb>data table notebook</a>'\n",
              "            + ' to learn more about interactive tables.';\n",
              "          element.innerHTML = '';\n",
              "          dataTable['output_type'] = 'display_data';\n",
              "          await google.colab.output.renderOutput(dataTable, element);\n",
              "          const docLink = document.createElement('div');\n",
              "          docLink.innerHTML = docLinkHtml;\n",
              "          element.appendChild(docLink);\n",
              "        }\n",
              "      </script>\n",
              "    </div>\n",
              "  </div>\n",
              "  "
            ]
          },
          "metadata": {},
          "execution_count": 8
        }
      ],
      "source": [
        "df.head(12)"
      ]
    },
    {
      "cell_type": "code",
      "execution_count": null,
      "metadata": {
        "id": "IsBXU5ThM6V7"
      },
      "outputs": [],
      "source": [
        "from sklearn.model_selection import train_test_split\n",
        "\n",
        "X_train, X_test, y_train, y_test = train_test_split(X,y, stratify=y)"
      ]
    },
    {
      "cell_type": "markdown",
      "metadata": {
        "id": "UeY5cHyLvGIO"
      },
      "source": [
        "Instalacion y configuracion del entorno."
      ]
    },
    {
      "cell_type": "code",
      "execution_count": null,
      "metadata": {
        "colab": {
          "base_uri": "https://localhost:8080/"
        },
        "id": "TsYCDio0M8im",
        "outputId": "93c9260e-a717-4539-f9f7-04e6f9d2f639"
      },
      "outputs": [
        {
          "output_type": "stream",
          "name": "stdout",
          "text": [
            "Looking in indexes: https://pypi.org/simple, https://us-python.pkg.dev/colab-wheels/public/simple/\n",
            "Collecting tensorflow-text\n",
            "  Downloading tensorflow_text-2.12.0-cp39-cp39-manylinux_2_17_x86_64.manylinux2014_x86_64.whl (6.0 MB)\n",
            "\u001b[2K     \u001b[90m━━━━━━━━━━━━━━━━━━━━━━━━━━━━━━━━━━━━━━━━\u001b[0m \u001b[32m6.0/6.0 MB\u001b[0m \u001b[31m40.9 MB/s\u001b[0m eta \u001b[36m0:00:00\u001b[0m\n",
            "\u001b[?25hRequirement already satisfied: tensorflow<2.13,>=2.12.0 in /usr/local/lib/python3.9/dist-packages (from tensorflow-text) (2.12.0)\n",
            "Requirement already satisfied: tensorflow-hub>=0.8.0 in /usr/local/lib/python3.9/dist-packages (from tensorflow-text) (0.13.0)\n",
            "Requirement already satisfied: gast<=0.4.0,>=0.2.1 in /usr/local/lib/python3.9/dist-packages (from tensorflow<2.13,>=2.12.0->tensorflow-text) (0.4.0)\n",
            "Requirement already satisfied: h5py>=2.9.0 in /usr/local/lib/python3.9/dist-packages (from tensorflow<2.13,>=2.12.0->tensorflow-text) (3.8.0)\n",
            "Requirement already satisfied: setuptools in /usr/local/lib/python3.9/dist-packages (from tensorflow<2.13,>=2.12.0->tensorflow-text) (67.6.1)\n",
            "Requirement already satisfied: numpy<1.24,>=1.22 in /usr/local/lib/python3.9/dist-packages (from tensorflow<2.13,>=2.12.0->tensorflow-text) (1.22.4)\n",
            "Requirement already satisfied: keras<2.13,>=2.12.0 in /usr/local/lib/python3.9/dist-packages (from tensorflow<2.13,>=2.12.0->tensorflow-text) (2.12.0)\n",
            "Requirement already satisfied: absl-py>=1.0.0 in /usr/local/lib/python3.9/dist-packages (from tensorflow<2.13,>=2.12.0->tensorflow-text) (1.4.0)\n",
            "Requirement already satisfied: tensorboard<2.13,>=2.12 in /usr/local/lib/python3.9/dist-packages (from tensorflow<2.13,>=2.12.0->tensorflow-text) (2.12.1)\n",
            "Requirement already satisfied: flatbuffers>=2.0 in /usr/local/lib/python3.9/dist-packages (from tensorflow<2.13,>=2.12.0->tensorflow-text) (23.3.3)\n",
            "Requirement already satisfied: grpcio<2.0,>=1.24.3 in /usr/local/lib/python3.9/dist-packages (from tensorflow<2.13,>=2.12.0->tensorflow-text) (1.53.0)\n",
            "Requirement already satisfied: astunparse>=1.6.0 in /usr/local/lib/python3.9/dist-packages (from tensorflow<2.13,>=2.12.0->tensorflow-text) (1.6.3)\n",
            "Requirement already satisfied: jax>=0.3.15 in /usr/local/lib/python3.9/dist-packages (from tensorflow<2.13,>=2.12.0->tensorflow-text) (0.4.7)\n",
            "Requirement already satisfied: protobuf!=4.21.0,!=4.21.1,!=4.21.2,!=4.21.3,!=4.21.4,!=4.21.5,<5.0.0dev,>=3.20.3 in /usr/local/lib/python3.9/dist-packages (from tensorflow<2.13,>=2.12.0->tensorflow-text) (3.20.3)\n",
            "Requirement already satisfied: tensorflow-estimator<2.13,>=2.12.0 in /usr/local/lib/python3.9/dist-packages (from tensorflow<2.13,>=2.12.0->tensorflow-text) (2.12.0)\n",
            "Requirement already satisfied: opt-einsum>=2.3.2 in /usr/local/lib/python3.9/dist-packages (from tensorflow<2.13,>=2.12.0->tensorflow-text) (3.3.0)\n",
            "Requirement already satisfied: tensorflow-io-gcs-filesystem>=0.23.1 in /usr/local/lib/python3.9/dist-packages (from tensorflow<2.13,>=2.12.0->tensorflow-text) (0.32.0)\n",
            "Requirement already satisfied: six>=1.12.0 in /usr/local/lib/python3.9/dist-packages (from tensorflow<2.13,>=2.12.0->tensorflow-text) (1.16.0)\n",
            "Requirement already satisfied: wrapt<1.15,>=1.11.0 in /usr/local/lib/python3.9/dist-packages (from tensorflow<2.13,>=2.12.0->tensorflow-text) (1.14.1)\n",
            "Requirement already satisfied: termcolor>=1.1.0 in /usr/local/lib/python3.9/dist-packages (from tensorflow<2.13,>=2.12.0->tensorflow-text) (2.2.0)\n",
            "Requirement already satisfied: libclang>=13.0.0 in /usr/local/lib/python3.9/dist-packages (from tensorflow<2.13,>=2.12.0->tensorflow-text) (16.0.0)\n",
            "Requirement already satisfied: packaging in /usr/local/lib/python3.9/dist-packages (from tensorflow<2.13,>=2.12.0->tensorflow-text) (23.0)\n",
            "Requirement already satisfied: typing-extensions>=3.6.6 in /usr/local/lib/python3.9/dist-packages (from tensorflow<2.13,>=2.12.0->tensorflow-text) (4.5.0)\n",
            "Requirement already satisfied: google-pasta>=0.1.1 in /usr/local/lib/python3.9/dist-packages (from tensorflow<2.13,>=2.12.0->tensorflow-text) (0.2.0)\n",
            "Requirement already satisfied: wheel<1.0,>=0.23.0 in /usr/local/lib/python3.9/dist-packages (from astunparse>=1.6.0->tensorflow<2.13,>=2.12.0->tensorflow-text) (0.40.0)\n",
            "Requirement already satisfied: scipy>=1.7 in /usr/local/lib/python3.9/dist-packages (from jax>=0.3.15->tensorflow<2.13,>=2.12.0->tensorflow-text) (1.10.1)\n",
            "Requirement already satisfied: ml-dtypes>=0.0.3 in /usr/local/lib/python3.9/dist-packages (from jax>=0.3.15->tensorflow<2.13,>=2.12.0->tensorflow-text) (0.0.4)\n",
            "Requirement already satisfied: markdown>=2.6.8 in /usr/local/lib/python3.9/dist-packages (from tensorboard<2.13,>=2.12->tensorflow<2.13,>=2.12.0->tensorflow-text) (3.4.3)\n",
            "Requirement already satisfied: google-auth-oauthlib<1.1,>=0.5 in /usr/local/lib/python3.9/dist-packages (from tensorboard<2.13,>=2.12->tensorflow<2.13,>=2.12.0->tensorflow-text) (1.0.0)\n",
            "Requirement already satisfied: requests<3,>=2.21.0 in /usr/local/lib/python3.9/dist-packages (from tensorboard<2.13,>=2.12->tensorflow<2.13,>=2.12.0->tensorflow-text) (2.27.1)\n",
            "Requirement already satisfied: tensorboard-data-server<0.8.0,>=0.7.0 in /usr/local/lib/python3.9/dist-packages (from tensorboard<2.13,>=2.12->tensorflow<2.13,>=2.12.0->tensorflow-text) (0.7.0)\n",
            "Requirement already satisfied: google-auth<3,>=1.6.3 in /usr/local/lib/python3.9/dist-packages (from tensorboard<2.13,>=2.12->tensorflow<2.13,>=2.12.0->tensorflow-text) (2.17.1)\n",
            "Requirement already satisfied: tensorboard-plugin-wit>=1.6.0 in /usr/local/lib/python3.9/dist-packages (from tensorboard<2.13,>=2.12->tensorflow<2.13,>=2.12.0->tensorflow-text) (1.8.1)\n",
            "Requirement already satisfied: werkzeug>=1.0.1 in /usr/local/lib/python3.9/dist-packages (from tensorboard<2.13,>=2.12->tensorflow<2.13,>=2.12.0->tensorflow-text) (2.2.3)\n",
            "Requirement already satisfied: pyasn1-modules>=0.2.1 in /usr/local/lib/python3.9/dist-packages (from google-auth<3,>=1.6.3->tensorboard<2.13,>=2.12->tensorflow<2.13,>=2.12.0->tensorflow-text) (0.2.8)\n",
            "Requirement already satisfied: cachetools<6.0,>=2.0.0 in /usr/local/lib/python3.9/dist-packages (from google-auth<3,>=1.6.3->tensorboard<2.13,>=2.12->tensorflow<2.13,>=2.12.0->tensorflow-text) (5.3.0)\n",
            "Requirement already satisfied: rsa<5,>=3.1.4 in /usr/local/lib/python3.9/dist-packages (from google-auth<3,>=1.6.3->tensorboard<2.13,>=2.12->tensorflow<2.13,>=2.12.0->tensorflow-text) (4.9)\n",
            "Requirement already satisfied: requests-oauthlib>=0.7.0 in /usr/local/lib/python3.9/dist-packages (from google-auth-oauthlib<1.1,>=0.5->tensorboard<2.13,>=2.12->tensorflow<2.13,>=2.12.0->tensorflow-text) (1.3.1)\n",
            "Requirement already satisfied: importlib-metadata>=4.4 in /usr/local/lib/python3.9/dist-packages (from markdown>=2.6.8->tensorboard<2.13,>=2.12->tensorflow<2.13,>=2.12.0->tensorflow-text) (6.1.0)\n",
            "Requirement already satisfied: urllib3<1.27,>=1.21.1 in /usr/local/lib/python3.9/dist-packages (from requests<3,>=2.21.0->tensorboard<2.13,>=2.12->tensorflow<2.13,>=2.12.0->tensorflow-text) (1.26.15)\n",
            "Requirement already satisfied: idna<4,>=2.5 in /usr/local/lib/python3.9/dist-packages (from requests<3,>=2.21.0->tensorboard<2.13,>=2.12->tensorflow<2.13,>=2.12.0->tensorflow-text) (3.4)\n",
            "Requirement already satisfied: certifi>=2017.4.17 in /usr/local/lib/python3.9/dist-packages (from requests<3,>=2.21.0->tensorboard<2.13,>=2.12->tensorflow<2.13,>=2.12.0->tensorflow-text) (2022.12.7)\n",
            "Requirement already satisfied: charset-normalizer~=2.0.0 in /usr/local/lib/python3.9/dist-packages (from requests<3,>=2.21.0->tensorboard<2.13,>=2.12->tensorflow<2.13,>=2.12.0->tensorflow-text) (2.0.12)\n",
            "Requirement already satisfied: MarkupSafe>=2.1.1 in /usr/local/lib/python3.9/dist-packages (from werkzeug>=1.0.1->tensorboard<2.13,>=2.12->tensorflow<2.13,>=2.12.0->tensorflow-text) (2.1.2)\n",
            "Requirement already satisfied: zipp>=0.5 in /usr/local/lib/python3.9/dist-packages (from importlib-metadata>=4.4->markdown>=2.6.8->tensorboard<2.13,>=2.12->tensorflow<2.13,>=2.12.0->tensorflow-text) (3.15.0)\n",
            "Requirement already satisfied: pyasn1<0.5.0,>=0.4.6 in /usr/local/lib/python3.9/dist-packages (from pyasn1-modules>=0.2.1->google-auth<3,>=1.6.3->tensorboard<2.13,>=2.12->tensorflow<2.13,>=2.12.0->tensorflow-text) (0.4.8)\n",
            "Requirement already satisfied: oauthlib>=3.0.0 in /usr/local/lib/python3.9/dist-packages (from requests-oauthlib>=0.7.0->google-auth-oauthlib<1.1,>=0.5->tensorboard<2.13,>=2.12->tensorflow<2.13,>=2.12.0->tensorflow-text) (3.2.2)\n",
            "Installing collected packages: tensorflow-text\n",
            "Successfully installed tensorflow-text-2.12.0\n"
          ]
        }
      ],
      "source": [
        "%pip install tensorflow-text"
      ]
    },
    {
      "cell_type": "markdown",
      "metadata": {
        "id": "IuG46ltCcd9P"
      },
      "source": [
        "<p>En esta sección se muestra el pre-procesamiento</p>"
      ]
    },
    {
      "cell_type": "code",
      "execution_count": null,
      "metadata": {
        "id": "caapKWKgNE5e"
      },
      "outputs": [],
      "source": [
        "import tensorflow_text as text\n",
        "import tensorflow as tf\n",
        "import tensorflow_hub as hub\n",
        "bert_preprocesar = hub.KerasLayer(\"https://tfhub.dev/tensorflow/bert_en_uncased_preprocess/3\")\n",
        "bert_codificador = hub.KerasLayer(\"https://tfhub.dev/tensorflow/bert_en_uncased_L-12_H-768_A-12/4\")"
      ]
    },
    {
      "cell_type": "code",
      "execution_count": null,
      "metadata": {
        "colab": {
          "base_uri": "https://localhost:8080/"
        },
        "id": "kMDRCOYYNTtI",
        "outputId": "46cf4f74-5419-44c9-9880-dd224c03cf59"
      },
      "outputs": [
        {
          "output_type": "execute_result",
          "data": {
            "text/plain": [
              "<tf.Tensor: shape=(2, 768), dtype=float32, numpy=\n",
              "array([[-0.48321354, -0.36696044, -0.9171686 , ..., -0.8857244 ,\n",
              "        -0.58254665,  0.45809036],\n",
              "       [-0.88665015, -0.30721253, -0.12627852, ...,  0.04625957,\n",
              "        -0.6892686 ,  0.9242595 ]], dtype=float32)>"
            ]
          },
          "metadata": {},
          "execution_count": 12
        }
      ],
      "source": [
        "def get_oracion_embebida(oracion):\n",
        "    texto_preprocesado= bert_preprocesar(oracion)\n",
        "    return bert_codificador(texto_preprocesado)['pooled_output']\n",
        "\n",
        "get_oracion_embebida([X_train.values[0],X_train.values[1]])"
      ]
    },
    {
      "cell_type": "code",
      "execution_count": null,
      "metadata": {
        "id": "twul3qrfNcHP"
      },
      "outputs": [],
      "source": [
        "# Capas de Bert\n",
        "entrada_texto = tf.keras.layers.Input(shape=(), dtype=tf.string, name='texto')\n",
        "texto_preprocesado = bert_preprocesar(entrada_texto)\n",
        "salidas = bert_codificador(texto_preprocesado)\n",
        "\n",
        "# Capas de la red neuronal\n",
        "l = tf.keras.layers.Dropout(0.1, name=\"dropout\")(salidas['pooled_output'])\n",
        "l = tf.keras.layers.Dense(32, activation='relu', name=\"oculta_1\")(l)\n",
        "l = tf.keras.layers.Dense(1, activation='sigmoid', name=\"salidas\")(l)\n",
        "\n",
        "# Utilizar entradas y salidas para construir el modelo\n",
        "model = tf.keras.Model(inputs=[entrada_texto], outputs = [l])\n"
      ]
    },
    {
      "cell_type": "code",
      "execution_count": null,
      "metadata": {
        "colab": {
          "base_uri": "https://localhost:8080/"
        },
        "id": "mRiNvEMeyC7M",
        "outputId": "09a81552-79b7-41b7-d36b-66b475f1e854"
      },
      "outputs": [
        {
          "data": {
            "text/plain": [
              "{'sequence_output': <KerasTensor: shape=(None, 128, 768) dtype=float32 (created by layer 'keras_layer_1')>,\n",
              " 'default': <KerasTensor: shape=(None, 768) dtype=float32 (created by layer 'keras_layer_1')>,\n",
              " 'encoder_outputs': [<KerasTensor: shape=(None, 128, 768) dtype=float32 (created by layer 'keras_layer_1')>,\n",
              "  <KerasTensor: shape=(None, 128, 768) dtype=float32 (created by layer 'keras_layer_1')>,\n",
              "  <KerasTensor: shape=(None, 128, 768) dtype=float32 (created by layer 'keras_layer_1')>,\n",
              "  <KerasTensor: shape=(None, 128, 768) dtype=float32 (created by layer 'keras_layer_1')>,\n",
              "  <KerasTensor: shape=(None, 128, 768) dtype=float32 (created by layer 'keras_layer_1')>,\n",
              "  <KerasTensor: shape=(None, 128, 768) dtype=float32 (created by layer 'keras_layer_1')>,\n",
              "  <KerasTensor: shape=(None, 128, 768) dtype=float32 (created by layer 'keras_layer_1')>,\n",
              "  <KerasTensor: shape=(None, 128, 768) dtype=float32 (created by layer 'keras_layer_1')>,\n",
              "  <KerasTensor: shape=(None, 128, 768) dtype=float32 (created by layer 'keras_layer_1')>,\n",
              "  <KerasTensor: shape=(None, 128, 768) dtype=float32 (created by layer 'keras_layer_1')>,\n",
              "  <KerasTensor: shape=(None, 128, 768) dtype=float32 (created by layer 'keras_layer_1')>,\n",
              "  <KerasTensor: shape=(None, 128, 768) dtype=float32 (created by layer 'keras_layer_1')>],\n",
              " 'pooled_output': <KerasTensor: shape=(None, 768) dtype=float32 (created by layer 'keras_layer_1')>}"
            ]
          },
          "execution_count": 8,
          "metadata": {},
          "output_type": "execute_result"
        }
      ],
      "source": [
        "salidas"
      ]
    },
    {
      "cell_type": "code",
      "execution_count": null,
      "metadata": {
        "id": "X596xB5C-HLh"
      },
      "outputs": [],
      "source": [
        "model = tf.keras.Model(inputs=[entrada_texto], outputs=[l])\n",
        "model.compile(optimizer='adam',\n",
        "              loss='binary_crossentropy',\n",
        "              metrics=['accuracy', tf.keras.metrics.Recall(), tf.keras.metrics.Precision()])\n",
        "\n"
      ]
    },
    {
      "cell_type": "code",
      "execution_count": null,
      "metadata": {
        "colab": {
          "base_uri": "https://localhost:8080/"
        },
        "id": "kSzmoc2WNhB3",
        "outputId": "66bab4a7-8c92-4290-c6bc-6e6cb7d191ca"
      },
      "outputs": [
        {
          "output_type": "stream",
          "name": "stdout",
          "text": [
            "Epoch 1/32\n",
            "18/18 [==============================] - 269s 15s/step - loss: 0.5950 - accuracy: 0.6854 - recall: 0.5887 - precision: 0.6535 - val_loss: 0.4307 - val_accuracy: 0.8270 - val_recall: 0.8395 - val_precision: 0.7794\n",
            "Epoch 2/32\n",
            "18/18 [==============================] - 257s 14s/step - loss: 0.4145 - accuracy: 0.8189 - recall: 0.7925 - precision: 0.7913 - val_loss: 0.3594 - val_accuracy: 0.8585 - val_recall: 0.8580 - val_precision: 0.8237\n",
            "Epoch 3/32\n",
            "18/18 [==============================] - 256s 14s/step - loss: 0.3592 - accuracy: 0.8512 - recall: 0.8560 - precision: 0.8120 - val_loss: 0.3144 - val_accuracy: 0.8830 - val_recall: 0.9028 - val_precision: 0.8399\n",
            "Epoch 4/32\n",
            "18/18 [==============================] - 256s 14s/step - loss: 0.3150 - accuracy: 0.8735 - recall: 0.8728 - precision: 0.8420 - val_loss: 0.2797 - val_accuracy: 0.8947 - val_recall: 0.9282 - val_precision: 0.8448\n",
            "Epoch 5/32\n",
            "18/18 [==============================] - 256s 14s/step - loss: 0.2814 - accuracy: 0.8890 - recall: 0.8884 - precision: 0.8608 - val_loss: 0.2487 - val_accuracy: 0.9061 - val_recall: 0.9398 - val_precision: 0.8577\n",
            "Epoch 6/32\n",
            "18/18 [==============================] - 257s 14s/step - loss: 0.2509 - accuracy: 0.9044 - recall: 0.9044 - precision: 0.8793 - val_loss: 0.2107 - val_accuracy: 0.9296 - val_recall: 0.9383 - val_precision: 0.9034\n",
            "Epoch 7/32\n",
            "18/18 [==============================] - 255s 14s/step - loss: 0.2169 - accuracy: 0.9296 - recall: 0.9213 - precision: 0.9171 - val_loss: 0.1793 - val_accuracy: 0.9470 - val_recall: 0.9429 - val_precision: 0.9357\n",
            "Epoch 8/32\n",
            "18/18 [==============================] - 255s 14s/step - loss: 0.1911 - accuracy: 0.9378 - recall: 0.9306 - precision: 0.9268 - val_loss: 0.1565 - val_accuracy: 0.9514 - val_recall: 0.9429 - val_precision: 0.9451\n",
            "Epoch 9/32\n",
            "18/18 [==============================] - 255s 14s/step - loss: 0.1743 - accuracy: 0.9432 - recall: 0.9329 - precision: 0.9363 - val_loss: 0.1395 - val_accuracy: 0.9577 - val_recall: 0.9421 - val_precision: 0.9599\n",
            "Epoch 10/32\n",
            "18/18 [==============================] - 255s 14s/step - loss: 0.1614 - accuracy: 0.9491 - recall: 0.9411 - precision: 0.9419 - val_loss: 0.1270 - val_accuracy: 0.9665 - val_recall: 0.9614 - val_precision: 0.9614\n",
            "Epoch 11/32\n",
            "18/18 [==============================] - 255s 14s/step - loss: 0.1539 - accuracy: 0.9495 - recall: 0.9370 - precision: 0.9463 - val_loss: 0.1185 - val_accuracy: 0.9665 - val_recall: 0.9645 - val_precision: 0.9586\n",
            "Epoch 12/32\n",
            "18/18 [==============================] - 255s 14s/step - loss: 0.1410 - accuracy: 0.9564 - recall: 0.9483 - precision: 0.9513 - val_loss: 0.1096 - val_accuracy: 0.9691 - val_recall: 0.9614 - val_precision: 0.9674\n",
            "Epoch 13/32\n",
            "18/18 [==============================] - 255s 14s/step - loss: 0.1326 - accuracy: 0.9584 - recall: 0.9465 - precision: 0.9574 - val_loss: 0.1150 - val_accuracy: 0.9601 - val_recall: 0.9776 - val_precision: 0.9337\n",
            "Epoch 14/32\n",
            "18/18 [==============================] - 255s 14s/step - loss: 0.1306 - accuracy: 0.9576 - recall: 0.9488 - precision: 0.9535 - val_loss: 0.0982 - val_accuracy: 0.9738 - val_recall: 0.9691 - val_precision: 0.9706\n",
            "Epoch 15/32\n",
            "18/18 [==============================] - 253s 14s/step - loss: 0.1225 - accuracy: 0.9594 - recall: 0.9476 - precision: 0.9586 - val_loss: 0.0953 - val_accuracy: 0.9718 - val_recall: 0.9715 - val_precision: 0.9640\n",
            "Epoch 16/32\n",
            "18/18 [==============================] - 252s 14s/step - loss: 0.1202 - accuracy: 0.9596 - recall: 0.9499 - precision: 0.9570 - val_loss: 0.0886 - val_accuracy: 0.9755 - val_recall: 0.9630 - val_precision: 0.9804\n",
            "Epoch 17/32\n",
            "18/18 [==============================] - 252s 14s/step - loss: 0.1177 - accuracy: 0.9609 - recall: 0.9506 - precision: 0.9590 - val_loss: 0.0841 - val_accuracy: 0.9769 - val_recall: 0.9684 - val_precision: 0.9782\n",
            "Epoch 18/32\n",
            "18/18 [==============================] - 254s 14s/step - loss: 0.1127 - accuracy: 0.9613 - recall: 0.9499 - precision: 0.9607 - val_loss: 0.0824 - val_accuracy: 0.9745 - val_recall: 0.9707 - val_precision: 0.9707\n",
            "Epoch 19/32\n",
            "18/18 [==============================] - 254s 14s/step - loss: 0.1109 - accuracy: 0.9624 - recall: 0.9517 - precision: 0.9616 - val_loss: 0.0820 - val_accuracy: 0.9752 - val_recall: 0.9776 - val_precision: 0.9657\n",
            "Epoch 20/32\n",
            "18/18 [==============================] - 255s 14s/step - loss: 0.1108 - accuracy: 0.9614 - recall: 0.9512 - precision: 0.9598 - val_loss: 0.0804 - val_accuracy: 0.9755 - val_recall: 0.9776 - val_precision: 0.9664\n",
            "Epoch 21/32\n",
            "18/18 [==============================] - 255s 14s/step - loss: 0.1064 - accuracy: 0.9630 - recall: 0.9535 - precision: 0.9611 - val_loss: 0.0745 - val_accuracy: 0.9795 - val_recall: 0.9699 - val_precision: 0.9828\n",
            "Epoch 22/32\n",
            "18/18 [==============================] - 255s 14s/step - loss: 0.1035 - accuracy: 0.9650 - recall: 0.9571 - precision: 0.9623 - val_loss: 0.0731 - val_accuracy: 0.9792 - val_recall: 0.9699 - val_precision: 0.9820\n",
            "Epoch 23/32\n",
            "18/18 [==============================] - 254s 14s/step - loss: 0.1058 - accuracy: 0.9619 - recall: 0.9519 - precision: 0.9601 - val_loss: 0.0805 - val_accuracy: 0.9775 - val_recall: 0.9545 - val_precision: 0.9936\n",
            "Epoch 24/32\n",
            "18/18 [==============================] - 254s 14s/step - loss: 0.1003 - accuracy: 0.9667 - recall: 0.9589 - precision: 0.9643 - val_loss: 0.0695 - val_accuracy: 0.9792 - val_recall: 0.9753 - val_precision: 0.9768\n",
            "Epoch 25/32\n",
            "18/18 [==============================] - 255s 14s/step - loss: 0.1004 - accuracy: 0.9678 - recall: 0.9584 - precision: 0.9673 - val_loss: 0.0685 - val_accuracy: 0.9789 - val_recall: 0.9776 - val_precision: 0.9739\n",
            "Epoch 26/32\n",
            "18/18 [==============================] - 256s 14s/step - loss: 0.0964 - accuracy: 0.9674 - recall: 0.9599 - precision: 0.9649 - val_loss: 0.0706 - val_accuracy: 0.9782 - val_recall: 0.9645 - val_precision: 0.9850\n",
            "Epoch 27/32\n",
            "18/18 [==============================] - 255s 14s/step - loss: 0.0957 - accuracy: 0.9660 - recall: 0.9568 - precision: 0.9647 - val_loss: 0.0651 - val_accuracy: 0.9799 - val_recall: 0.9722 - val_precision: 0.9813\n",
            "Epoch 28/32\n",
            "18/18 [==============================] - 255s 14s/step - loss: 0.0953 - accuracy: 0.9674 - recall: 0.9612 - precision: 0.9637 - val_loss: 0.0679 - val_accuracy: 0.9779 - val_recall: 0.9784 - val_precision: 0.9709\n",
            "Epoch 29/32\n",
            "18/18 [==============================] - 254s 14s/step - loss: 0.0958 - accuracy: 0.9678 - recall: 0.9584 - precision: 0.9673 - val_loss: 0.0635 - val_accuracy: 0.9816 - val_recall: 0.9730 - val_precision: 0.9844\n",
            "Epoch 30/32\n",
            "18/18 [==============================] - 254s 14s/step - loss: 0.0909 - accuracy: 0.9702 - recall: 0.9620 - precision: 0.9692 - val_loss: 0.0638 - val_accuracy: 0.9816 - val_recall: 0.9699 - val_precision: 0.9874\n",
            "Epoch 31/32\n",
            "18/18 [==============================] - 255s 14s/step - loss: 0.0925 - accuracy: 0.9668 - recall: 0.9568 - precision: 0.9665 - val_loss: 0.0629 - val_accuracy: 0.9832 - val_recall: 0.9699 - val_precision: 0.9913\n",
            "Epoch 32/32\n",
            "18/18 [==============================] - 255s 14s/step - loss: 0.0906 - accuracy: 0.9694 - recall: 0.9586 - precision: 0.9706 - val_loss: 0.0688 - val_accuracy: 0.9762 - val_recall: 0.9830 - val_precision: 0.9630\n"
          ]
        }
      ],
      "source": [
        "import numpy as np\n",
        "\n",
        "history = model.fit(X_train, np.array(y_train), epochs=32, batch_size = 512, \n",
        "                    validation_data=(X_test, np.array(y_test)))"
      ]
    },
    {
      "cell_type": "code",
      "execution_count": null,
      "metadata": {
        "colab": {
          "base_uri": "https://localhost:8080/"
        },
        "id": "F7F8OYl5Nj5F",
        "outputId": "101f3769-f4e4-49f5-f055-9dddfbadb095"
      },
      "outputs": [
        {
          "output_type": "stream",
          "name": "stdout",
          "text": [
            "94/94 [==============================] - 32s 345ms/step - loss: 0.0688 - accuracy: 0.9762 - recall: 0.9830 - precision: 0.9630\n",
            "Loss:  0.06880643218755722\n",
            "Accuracy:  0.976190447807312\n",
            "Recall:  0.9830247163772583\n",
            "Precision:  0.9629629850387573\n"
          ]
        }
      ],
      "source": [
        "loss, accuracy, recall, precision = model.evaluate(X_test, y_test)\n",
        "print('Loss: ', loss)\n",
        "print('Accuracy: ', accuracy)\n",
        "print('Recall: ', recall)\n",
        "print('Precision: ', precision)"
      ]
    },
    {
      "cell_type": "code",
      "execution_count": null,
      "metadata": {
        "colab": {
          "base_uri": "https://localhost:8080/"
        },
        "id": "hc88LbLmcSfi",
        "outputId": "318f252e-c866-4d25-8b56-f0eb36eb3375"
      },
      "outputs": [
        {
          "output_type": "stream",
          "name": "stdout",
          "text": [
            "94/94 [==============================] - 32s 335ms/step\n"
          ]
        }
      ],
      "source": [
        "y_pred = model.predict(X_test)"
      ]
    },
    {
      "cell_type": "code",
      "execution_count": null,
      "metadata": {
        "colab": {
          "base_uri": "https://localhost:8080/"
        },
        "id": "F3leFZyXTIF5",
        "outputId": "e9886e84-0165-4ad3-99c1-703a9f322d4b"
      },
      "outputs": [
        {
          "data": {
            "text/plain": [
              "array([[1.4572535e-04],\n",
              "       [9.9873036e-01],\n",
              "       [5.0527705e-03],\n",
              "       ...,\n",
              "       [3.0826040e-02],\n",
              "       [7.7725434e-01],\n",
              "       [9.9131572e-01]], dtype=float32)"
            ]
          },
          "execution_count": 13,
          "metadata": {},
          "output_type": "execute_result"
        }
      ],
      "source": [
        "y_pred"
      ]
    },
    {
      "cell_type": "code",
      "execution_count": null,
      "metadata": {
        "id": "sGp-ZDCrX_n9"
      },
      "outputs": [],
      "source": [
        "import numpy as np"
      ]
    },
    {
      "cell_type": "code",
      "execution_count": null,
      "metadata": {
        "id": "MQaw7_YSYTcZ"
      },
      "outputs": [],
      "source": [
        "y_pred_class = np.round(y_pred)\n"
      ]
    },
    {
      "cell_type": "code",
      "execution_count": null,
      "metadata": {
        "colab": {
          "base_uri": "https://localhost:8080/"
        },
        "id": "qVUJdO9tYVF8",
        "outputId": "061a1b9a-7096-4026-8d9b-17ee37e7bd35"
      },
      "outputs": [
        {
          "data": {
            "text/plain": [
              "array([[0.],\n",
              "       [0.],\n",
              "       [0.],\n",
              "       [1.],\n",
              "       [0.],\n",
              "       [0.],\n",
              "       [0.],\n",
              "       [1.],\n",
              "       [1.],\n",
              "       [1.],\n",
              "       [0.],\n",
              "       [1.],\n",
              "       [0.],\n",
              "       [1.],\n",
              "       [0.],\n",
              "       [0.],\n",
              "       [1.],\n",
              "       [0.],\n",
              "       [1.],\n",
              "       [1.],\n",
              "       [0.],\n",
              "       [0.],\n",
              "       [1.],\n",
              "       [1.],\n",
              "       [1.],\n",
              "       [0.],\n",
              "       [1.],\n",
              "       [0.],\n",
              "       [0.],\n",
              "       [1.],\n",
              "       [1.],\n",
              "       [1.],\n",
              "       [1.],\n",
              "       [1.],\n",
              "       [0.],\n",
              "       [0.],\n",
              "       [1.],\n",
              "       [1.],\n",
              "       [0.],\n",
              "       [1.],\n",
              "       [0.],\n",
              "       [0.],\n",
              "       [0.],\n",
              "       [1.],\n",
              "       [1.],\n",
              "       [0.],\n",
              "       [0.],\n",
              "       [1.],\n",
              "       [1.],\n",
              "       [0.]], dtype=float32)"
            ]
          },
          "execution_count": 16,
          "metadata": {},
          "output_type": "execute_result"
        }
      ],
      "source": [
        "y_pred_class[100:150]"
      ]
    },
    {
      "cell_type": "code",
      "execution_count": null,
      "metadata": {
        "colab": {
          "base_uri": "https://localhost:8080/"
        },
        "id": "0ZDEdi_jZTKA",
        "outputId": "3c3fc2b3-8f0c-4340-c659-bdebe3683120"
      },
      "outputs": [
        {
          "output_type": "execute_result",
          "data": {
            "text/plain": [
              "2982"
            ]
          },
          "metadata": {},
          "execution_count": 20
        }
      ],
      "source": [
        "y_pred_class.size"
      ]
    },
    {
      "cell_type": "code",
      "execution_count": null,
      "metadata": {
        "colab": {
          "base_uri": "https://localhost:8080/"
        },
        "id": "iUM4oI_fhqOq",
        "outputId": "158444db-28e7-4550-e807-4c6c85da1777"
      },
      "outputs": [
        {
          "output_type": "stream",
          "name": "stdout",
          "text": [
            "Precisión:  0.9761904761904762\n",
            "Matriz de confusión:\n",
            " [[1637   49]\n",
            " [  22 1274]]\n"
          ]
        }
      ],
      "source": [
        "from sklearn.metrics import accuracy_score, confusion_matrix\n",
        "\n",
        "# Calcular la precisión del modelo\n",
        "accuracy = accuracy_score(y_test, y_pred_class)\n",
        "print(\"Precisión: \", accuracy)\n",
        "\n",
        "# Calcular la matriz de confusión\n",
        "conf_matrix = confusion_matrix(y_test, y_pred_class)\n",
        "print(\"Matriz de confusión:\\n\", conf_matrix)"
      ]
    },
    {
      "cell_type": "code",
      "execution_count": null,
      "metadata": {
        "colab": {
          "base_uri": "https://localhost:8080/"
        },
        "id": "D35x2qd665M-",
        "outputId": "721cd37e-ae84-49a1-ae6e-a7aa0a8c9c84"
      },
      "outputs": [
        {
          "output_type": "stream",
          "name": "stdout",
          "text": [
            "Epoch 1/24\n",
            "18/18 [==============================] - ETA: 0s - loss: 0.0935 - accuracy: 0.9678 - recall: 0.9607 - precision: 0.9651 \n",
            "Epoch 1: val_accuracy improved from -inf to 0.97954, saving model to model_checkpoint.h5\n",
            "18/18 [==============================] - 259s 15s/step - loss: 0.0935 - accuracy: 0.9678 - recall: 0.9607 - precision: 0.9651 - val_loss: 0.0607 - val_accuracy: 0.9795 - val_recall: 0.9761 - val_precision: 0.9768\n",
            "Epoch 2/24\n",
            "18/18 [==============================] - ETA: 0s - loss: 0.0861 - accuracy: 0.9712 - recall: 0.9632 - precision: 0.9702 \n",
            "Epoch 2: val_accuracy improved from 0.97954 to 0.98290, saving model to model_checkpoint.h5\n",
            "18/18 [==============================] - 257s 14s/step - loss: 0.0861 - accuracy: 0.9712 - recall: 0.9632 - precision: 0.9702 - val_loss: 0.0600 - val_accuracy: 0.9829 - val_recall: 0.9707 - val_precision: 0.9898\n",
            "Epoch 3/24\n",
            "18/18 [==============================] - ETA: 0s - loss: 0.0903 - accuracy: 0.9689 - recall: 0.9607 - precision: 0.9676 \n",
            "Epoch 3: val_accuracy did not improve from 0.98290\n",
            "18/18 [==============================] - 255s 14s/step - loss: 0.0903 - accuracy: 0.9689 - recall: 0.9607 - precision: 0.9676 - val_loss: 0.0584 - val_accuracy: 0.9816 - val_recall: 0.9738 - val_precision: 0.9836\n",
            "Epoch 4/24\n",
            "18/18 [==============================] - ETA: 0s - loss: 0.0890 - accuracy: 0.9689 - recall: 0.9622 - precision: 0.9662 \n",
            "Epoch 4: val_accuracy did not improve from 0.98290\n",
            "18/18 [==============================] - 255s 14s/step - loss: 0.0890 - accuracy: 0.9689 - recall: 0.9622 - precision: 0.9662 - val_loss: 0.0691 - val_accuracy: 0.9799 - val_recall: 0.9583 - val_precision: 0.9952\n",
            "Epoch 5/24\n",
            "18/18 [==============================] - ETA: 0s - loss: 0.0904 - accuracy: 0.9685 - recall: 0.9596 - precision: 0.9676 \n",
            "Epoch 5: val_accuracy did not improve from 0.98290\n",
            "18/18 [==============================] - 255s 14s/step - loss: 0.0904 - accuracy: 0.9685 - recall: 0.9596 - precision: 0.9676 - val_loss: 0.0576 - val_accuracy: 0.9816 - val_recall: 0.9761 - val_precision: 0.9814\n",
            "Epoch 6/24\n",
            "18/18 [==============================] - ETA: 0s - loss: 0.0842 - accuracy: 0.9721 - recall: 0.9668 - precision: 0.9688 \n",
            "Epoch 6: val_accuracy did not improve from 0.98290\n",
            "18/18 [==============================] - 255s 14s/step - loss: 0.0842 - accuracy: 0.9721 - recall: 0.9668 - precision: 0.9688 - val_loss: 0.0584 - val_accuracy: 0.9826 - val_recall: 0.9699 - val_precision: 0.9898\n",
            "Epoch 7/24\n",
            "18/18 [==============================] - ETA: 0s - loss: 0.0836 - accuracy: 0.9710 - recall: 0.9630 - precision: 0.9702 \n",
            "Epoch 7: val_accuracy did not improve from 0.98290\n",
            "18/18 [==============================] - 255s 14s/step - loss: 0.0836 - accuracy: 0.9710 - recall: 0.9630 - precision: 0.9702 - val_loss: 0.0575 - val_accuracy: 0.9805 - val_recall: 0.9769 - val_precision: 0.9784\n",
            "Epoch 8/24\n",
            "18/18 [==============================] - ETA: 0s - loss: 0.0867 - accuracy: 0.9689 - recall: 0.9632 - precision: 0.9652 \n",
            "Epoch 8: val_accuracy did not improve from 0.98290\n",
            "18/18 [==============================] - 255s 14s/step - loss: 0.0867 - accuracy: 0.9689 - recall: 0.9632 - precision: 0.9652 - val_loss: 0.0556 - val_accuracy: 0.9819 - val_recall: 0.9753 - val_precision: 0.9829\n",
            "Epoch 9/24\n",
            "18/18 [==============================] - ETA: 0s - loss: 0.0872 - accuracy: 0.9697 - recall: 0.9630 - precision: 0.9672 \n",
            "Epoch 9: val_accuracy did not improve from 0.98290\n",
            "18/18 [==============================] - 274s 15s/step - loss: 0.0872 - accuracy: 0.9697 - recall: 0.9630 - precision: 0.9672 - val_loss: 0.0626 - val_accuracy: 0.9822 - val_recall: 0.9660 - val_precision: 0.9929\n",
            "Epoch 10/24\n",
            "18/18 [==============================] - ETA: 0s - loss: 0.0897 - accuracy: 0.9683 - recall: 0.9614 - precision: 0.9654 \n",
            "Epoch 10: val_accuracy did not improve from 0.98290\n",
            "18/18 [==============================] - 255s 14s/step - loss: 0.0897 - accuracy: 0.9683 - recall: 0.9614 - precision: 0.9654 - val_loss: 0.0619 - val_accuracy: 0.9826 - val_recall: 0.9684 - val_precision: 0.9913\n",
            "Epoch 11/24\n",
            "18/18 [==============================] - ETA: 0s - loss: 0.0836 - accuracy: 0.9716 - recall: 0.9638 - precision: 0.9707 \n",
            "Epoch 11: val_accuracy did not improve from 0.98290\n",
            "18/18 [==============================] - 255s 14s/step - loss: 0.0836 - accuracy: 0.9716 - recall: 0.9638 - precision: 0.9707 - val_loss: 0.0544 - val_accuracy: 0.9819 - val_recall: 0.9745 - val_precision: 0.9836\n",
            "Epoch 12/24\n",
            "18/18 [==============================] - ETA: 0s - loss: 0.0850 - accuracy: 0.9708 - recall: 0.9632 - precision: 0.9695 \n",
            "Epoch 12: val_accuracy did not improve from 0.98290\n",
            "18/18 [==============================] - 254s 14s/step - loss: 0.0850 - accuracy: 0.9708 - recall: 0.9632 - precision: 0.9695 - val_loss: 0.0552 - val_accuracy: 0.9812 - val_recall: 0.9769 - val_precision: 0.9799\n",
            "Epoch 13/24\n",
            "18/18 [==============================] - ETA: 0s - loss: 0.0870 - accuracy: 0.9680 - recall: 0.9604 - precision: 0.9659 \n",
            "Epoch 13: val_accuracy did not improve from 0.98290\n",
            "18/18 [==============================] - 255s 14s/step - loss: 0.0870 - accuracy: 0.9680 - recall: 0.9604 - precision: 0.9659 - val_loss: 0.0583 - val_accuracy: 0.9785 - val_recall: 0.9815 - val_precision: 0.9695\n",
            "Epoch 14/24\n",
            "18/18 [==============================] - ETA: 0s - loss: 0.0867 - accuracy: 0.9702 - recall: 0.9622 - precision: 0.9689 \n",
            "Epoch 14: val_accuracy did not improve from 0.98290\n",
            "18/18 [==============================] - 254s 14s/step - loss: 0.0867 - accuracy: 0.9702 - recall: 0.9622 - precision: 0.9689 - val_loss: 0.0540 - val_accuracy: 0.9822 - val_recall: 0.9722 - val_precision: 0.9867\n",
            "Epoch 15/24\n",
            "18/18 [==============================] - ETA: 0s - loss: 0.0816 - accuracy: 0.9709 - recall: 0.9630 - precision: 0.9700 \n",
            "Epoch 15: val_accuracy did not improve from 0.98290\n",
            "18/18 [==============================] - 254s 14s/step - loss: 0.0816 - accuracy: 0.9709 - recall: 0.9630 - precision: 0.9700 - val_loss: 0.0530 - val_accuracy: 0.9812 - val_recall: 0.9745 - val_precision: 0.9821\n",
            "Epoch 16/24\n",
            "18/18 [==============================] - ETA: 0s - loss: 0.0904 - accuracy: 0.9684 - recall: 0.9599 - precision: 0.9671 \n",
            "Epoch 16: val_accuracy did not improve from 0.98290\n",
            "18/18 [==============================] - 254s 14s/step - loss: 0.0904 - accuracy: 0.9684 - recall: 0.9599 - precision: 0.9671 - val_loss: 0.0544 - val_accuracy: 0.9816 - val_recall: 0.9823 - val_precision: 0.9755\n",
            "Epoch 17/24\n",
            "18/18 [==============================] - ETA: 0s - loss: 0.0838 - accuracy: 0.9689 - recall: 0.9607 - precision: 0.9676 \n",
            "Epoch 17: val_accuracy did not improve from 0.98290\n",
            "18/18 [==============================] - 255s 14s/step - loss: 0.0838 - accuracy: 0.9689 - recall: 0.9607 - precision: 0.9676 - val_loss: 0.0524 - val_accuracy: 0.9816 - val_recall: 0.9753 - val_precision: 0.9821\n",
            "Epoch 18/24\n",
            "18/18 [==============================] - ETA: 0s - loss: 0.0784 - accuracy: 0.9732 - recall: 0.9674 - precision: 0.9708 \n",
            "Epoch 18: val_accuracy did not improve from 0.98290\n",
            "18/18 [==============================] - 252s 14s/step - loss: 0.0784 - accuracy: 0.9732 - recall: 0.9674 - precision: 0.9708 - val_loss: 0.0509 - val_accuracy: 0.9809 - val_recall: 0.9761 - val_precision: 0.9799\n",
            "Epoch 19/24\n",
            "18/18 [==============================] - ETA: 0s - loss: 0.0777 - accuracy: 0.9737 - recall: 0.9666 - precision: 0.9728 \n",
            "Epoch 19: val_accuracy did not improve from 0.98290\n",
            "18/18 [==============================] - 252s 14s/step - loss: 0.0777 - accuracy: 0.9737 - recall: 0.9666 - precision: 0.9728 - val_loss: 0.0514 - val_accuracy: 0.9826 - val_recall: 0.9769 - val_precision: 0.9829\n",
            "Epoch 20/24\n",
            "18/18 [==============================] - ETA: 0s - loss: 0.0797 - accuracy: 0.9699 - recall: 0.9604 - precision: 0.9701 \n",
            "Epoch 20: val_accuracy did not improve from 0.98290\n",
            "18/18 [==============================] - 253s 14s/step - loss: 0.0797 - accuracy: 0.9699 - recall: 0.9604 - precision: 0.9701 - val_loss: 0.0505 - val_accuracy: 0.9812 - val_recall: 0.9776 - val_precision: 0.9791\n",
            "Epoch 21/24\n",
            "18/18 [==============================] - ETA: 0s - loss: 0.0764 - accuracy: 0.9741 - recall: 0.9679 - precision: 0.9724 \n",
            "Epoch 21: val_accuracy did not improve from 0.98290\n",
            "18/18 [==============================] - 254s 14s/step - loss: 0.0764 - accuracy: 0.9741 - recall: 0.9679 - precision: 0.9724 - val_loss: 0.0528 - val_accuracy: 0.9819 - val_recall: 0.9707 - val_precision: 0.9874\n",
            "Epoch 22/24\n",
            "18/18 [==============================] - ETA: 0s - loss: 0.0736 - accuracy: 0.9750 - recall: 0.9686 - precision: 0.9736 "
          ]
        }
      ],
      "source": [
        "from tensorflow.keras.callbacks import ModelCheckpoint\n",
        "\n",
        "# Definir el callback\n",
        "checkpoint_path = \"model_checkpoint.h5\"\n",
        "checkpoint_callback = ModelCheckpoint(\n",
        "    checkpoint_path,\n",
        "    monitor=\"val_accuracy\",  # monitorear la precisión en el conjunto de validación\n",
        "    save_best_only=True,  # guardar solo el mejor modelo según la métrica monitoreada\n",
        "    save_weights_only=False,  # guardar el modelo completo (no solo los pesos)\n",
        "    verbose=1,\n",
        ")\n",
        "\n",
        "# Entrenar el modelo con el callback\n",
        "history = model.fit(\n",
        "    X_train,\n",
        "    y_train,\n",
        "    epochs=24,\n",
        "    batch_size=512,\n",
        "    validation_data=(X_test, y_test),\n",
        "    callbacks=[checkpoint_callback],\n",
        ")\n",
        "\n",
        "# Cargar el mejor modelo guardado según la métrica monitoreada\n",
        "model.load_weights(checkpoint_path)\n"
      ]
    },
    {
      "cell_type": "markdown",
      "metadata": {
        "id": "nfoIQ603Q223"
      },
      "source": []
    },
    {
      "cell_type": "markdown",
      "metadata": {
        "id": "uhHiVhHR0PyW"
      },
      "source": [
        "#Seccion 3"
      ]
    },
    {
      "cell_type": "code",
      "execution_count": null,
      "metadata": {
        "colab": {
          "base_uri": "https://localhost:8080/"
        },
        "id": "xX3jCGVH0TS9",
        "outputId": "0e49f5f1-e1c4-4d12-85d8-3f460c928b8b"
      },
      "outputs": [
        {
          "name": "stdout",
          "output_type": "stream",
          "text": [
            "Looking in indexes: https://pypi.org/simple, https://us-python.pkg.dev/colab-wheels/public/simple/\n",
            "Collecting tensorflow-text\n",
            "  Downloading tensorflow_text-2.11.0-cp39-cp39-manylinux_2_17_x86_64.manylinux2014_x86_64.whl (5.8 MB)\n",
            "\u001b[2K     \u001b[90m━━━━━━━━━━━━━━━━━━━━━━━━━━━━━━━━━━━━━━━━\u001b[0m \u001b[32m5.8/5.8 MB\u001b[0m \u001b[31m52.7 MB/s\u001b[0m eta \u001b[36m0:00:00\u001b[0m\n",
            "\u001b[?25hRequirement already satisfied: tensorflow-hub>=0.8.0 in /usr/local/lib/python3.9/dist-packages (from tensorflow-text) (0.13.0)\n",
            "Requirement already satisfied: tensorflow<2.12,>=2.11.0 in /usr/local/lib/python3.9/dist-packages (from tensorflow-text) (2.11.0)\n",
            "Requirement already satisfied: astunparse>=1.6.0 in /usr/local/lib/python3.9/dist-packages (from tensorflow<2.12,>=2.11.0->tensorflow-text) (1.6.3)\n",
            "Requirement already satisfied: wrapt>=1.11.0 in /usr/local/lib/python3.9/dist-packages (from tensorflow<2.12,>=2.11.0->tensorflow-text) (1.15.0)\n",
            "Requirement already satisfied: termcolor>=1.1.0 in /usr/local/lib/python3.9/dist-packages (from tensorflow<2.12,>=2.11.0->tensorflow-text) (2.2.0)\n",
            "Requirement already satisfied: six>=1.12.0 in /usr/local/lib/python3.9/dist-packages (from tensorflow<2.12,>=2.11.0->tensorflow-text) (1.15.0)\n",
            "Requirement already satisfied: absl-py>=1.0.0 in /usr/local/lib/python3.9/dist-packages (from tensorflow<2.12,>=2.11.0->tensorflow-text) (1.4.0)\n",
            "Requirement already satisfied: gast<=0.4.0,>=0.2.1 in /usr/local/lib/python3.9/dist-packages (from tensorflow<2.12,>=2.11.0->tensorflow-text) (0.4.0)\n",
            "Requirement already satisfied: grpcio<2.0,>=1.24.3 in /usr/local/lib/python3.9/dist-packages (from tensorflow<2.12,>=2.11.0->tensorflow-text) (1.51.3)\n",
            "Requirement already satisfied: tensorflow-io-gcs-filesystem>=0.23.1 in /usr/local/lib/python3.9/dist-packages (from tensorflow<2.12,>=2.11.0->tensorflow-text) (0.31.0)\n",
            "Requirement already satisfied: tensorflow-estimator<2.12,>=2.11.0 in /usr/local/lib/python3.9/dist-packages (from tensorflow<2.12,>=2.11.0->tensorflow-text) (2.11.0)\n",
            "Requirement already satisfied: protobuf<3.20,>=3.9.2 in /usr/local/lib/python3.9/dist-packages (from tensorflow<2.12,>=2.11.0->tensorflow-text) (3.19.6)\n",
            "Requirement already satisfied: libclang>=13.0.0 in /usr/local/lib/python3.9/dist-packages (from tensorflow<2.12,>=2.11.0->tensorflow-text) (15.0.6.1)\n",
            "Requirement already satisfied: tensorboard<2.12,>=2.11 in /usr/local/lib/python3.9/dist-packages (from tensorflow<2.12,>=2.11.0->tensorflow-text) (2.11.2)\n",
            "Requirement already satisfied: setuptools in /usr/local/lib/python3.9/dist-packages (from tensorflow<2.12,>=2.11.0->tensorflow-text) (63.4.3)\n",
            "Requirement already satisfied: packaging in /usr/local/lib/python3.9/dist-packages (from tensorflow<2.12,>=2.11.0->tensorflow-text) (23.0)\n",
            "Requirement already satisfied: typing-extensions>=3.6.6 in /usr/local/lib/python3.9/dist-packages (from tensorflow<2.12,>=2.11.0->tensorflow-text) (4.5.0)\n",
            "Requirement already satisfied: keras<2.12,>=2.11.0 in /usr/local/lib/python3.9/dist-packages (from tensorflow<2.12,>=2.11.0->tensorflow-text) (2.11.0)\n",
            "Requirement already satisfied: flatbuffers>=2.0 in /usr/local/lib/python3.9/dist-packages (from tensorflow<2.12,>=2.11.0->tensorflow-text) (23.3.3)\n",
            "Requirement already satisfied: h5py>=2.9.0 in /usr/local/lib/python3.9/dist-packages (from tensorflow<2.12,>=2.11.0->tensorflow-text) (3.1.0)\n",
            "Requirement already satisfied: opt-einsum>=2.3.2 in /usr/local/lib/python3.9/dist-packages (from tensorflow<2.12,>=2.11.0->tensorflow-text) (3.3.0)\n",
            "Requirement already satisfied: numpy>=1.20 in /usr/local/lib/python3.9/dist-packages (from tensorflow<2.12,>=2.11.0->tensorflow-text) (1.24.2)\n",
            "Requirement already satisfied: google-pasta>=0.1.1 in /usr/local/lib/python3.9/dist-packages (from tensorflow<2.12,>=2.11.0->tensorflow-text) (0.2.0)\n",
            "Requirement already satisfied: wheel<1.0,>=0.23.0 in /usr/local/lib/python3.9/dist-packages (from astunparse>=1.6.0->tensorflow<2.12,>=2.11.0->tensorflow-text) (0.40.0)\n",
            "Requirement already satisfied: google-auth-oauthlib<0.5,>=0.4.1 in /usr/local/lib/python3.9/dist-packages (from tensorboard<2.12,>=2.11->tensorflow<2.12,>=2.11.0->tensorflow-text) (0.4.6)\n",
            "Requirement already satisfied: requests<3,>=2.21.0 in /usr/local/lib/python3.9/dist-packages (from tensorboard<2.12,>=2.11->tensorflow<2.12,>=2.11.0->tensorflow-text) (2.25.1)\n",
            "Requirement already satisfied: markdown>=2.6.8 in /usr/local/lib/python3.9/dist-packages (from tensorboard<2.12,>=2.11->tensorflow<2.12,>=2.11.0->tensorflow-text) (3.4.1)\n",
            "Requirement already satisfied: werkzeug>=1.0.1 in /usr/local/lib/python3.9/dist-packages (from tensorboard<2.12,>=2.11->tensorflow<2.12,>=2.11.0->tensorflow-text) (2.2.3)\n",
            "Requirement already satisfied: google-auth<3,>=1.6.3 in /usr/local/lib/python3.9/dist-packages (from tensorboard<2.12,>=2.11->tensorflow<2.12,>=2.11.0->tensorflow-text) (2.16.2)\n",
            "Requirement already satisfied: tensorboard-plugin-wit>=1.6.0 in /usr/local/lib/python3.9/dist-packages (from tensorboard<2.12,>=2.11->tensorflow<2.12,>=2.11.0->tensorflow-text) (1.8.1)\n",
            "Requirement already satisfied: tensorboard-data-server<0.7.0,>=0.6.0 in /usr/local/lib/python3.9/dist-packages (from tensorboard<2.12,>=2.11->tensorflow<2.12,>=2.11.0->tensorflow-text) (0.6.1)\n",
            "Requirement already satisfied: rsa<5,>=3.1.4 in /usr/local/lib/python3.9/dist-packages (from google-auth<3,>=1.6.3->tensorboard<2.12,>=2.11->tensorflow<2.12,>=2.11.0->tensorflow-text) (4.9)\n",
            "Requirement already satisfied: cachetools<6.0,>=2.0.0 in /usr/local/lib/python3.9/dist-packages (from google-auth<3,>=1.6.3->tensorboard<2.12,>=2.11->tensorflow<2.12,>=2.11.0->tensorflow-text) (5.3.0)\n",
            "Requirement already satisfied: pyasn1-modules>=0.2.1 in /usr/local/lib/python3.9/dist-packages (from google-auth<3,>=1.6.3->tensorboard<2.12,>=2.11->tensorflow<2.12,>=2.11.0->tensorflow-text) (0.2.8)\n",
            "Requirement already satisfied: requests-oauthlib>=0.7.0 in /usr/local/lib/python3.9/dist-packages (from google-auth-oauthlib<0.5,>=0.4.1->tensorboard<2.12,>=2.11->tensorflow<2.12,>=2.11.0->tensorflow-text) (1.3.1)\n",
            "Requirement already satisfied: importlib-metadata>=4.4 in /usr/local/lib/python3.9/dist-packages (from markdown>=2.6.8->tensorboard<2.12,>=2.11->tensorflow<2.12,>=2.11.0->tensorflow-text) (6.0.0)\n",
            "Requirement already satisfied: chardet<5,>=3.0.2 in /usr/local/lib/python3.9/dist-packages (from requests<3,>=2.21.0->tensorboard<2.12,>=2.11->tensorflow<2.12,>=2.11.0->tensorflow-text) (4.0.0)\n",
            "Requirement already satisfied: urllib3<1.27,>=1.21.1 in /usr/local/lib/python3.9/dist-packages (from requests<3,>=2.21.0->tensorboard<2.12,>=2.11->tensorflow<2.12,>=2.11.0->tensorflow-text) (1.26.15)\n",
            "Requirement already satisfied: idna<3,>=2.5 in /usr/local/lib/python3.9/dist-packages (from requests<3,>=2.21.0->tensorboard<2.12,>=2.11->tensorflow<2.12,>=2.11.0->tensorflow-text) (2.10)\n",
            "Requirement already satisfied: certifi>=2017.4.17 in /usr/local/lib/python3.9/dist-packages (from requests<3,>=2.21.0->tensorboard<2.12,>=2.11->tensorflow<2.12,>=2.11.0->tensorflow-text) (2022.12.7)\n",
            "Requirement already satisfied: MarkupSafe>=2.1.1 in /usr/local/lib/python3.9/dist-packages (from werkzeug>=1.0.1->tensorboard<2.12,>=2.11->tensorflow<2.12,>=2.11.0->tensorflow-text) (2.1.2)\n",
            "Requirement already satisfied: zipp>=0.5 in /usr/local/lib/python3.9/dist-packages (from importlib-metadata>=4.4->markdown>=2.6.8->tensorboard<2.12,>=2.11->tensorflow<2.12,>=2.11.0->tensorflow-text) (3.15.0)\n",
            "Requirement already satisfied: pyasn1<0.5.0,>=0.4.6 in /usr/local/lib/python3.9/dist-packages (from pyasn1-modules>=0.2.1->google-auth<3,>=1.6.3->tensorboard<2.12,>=2.11->tensorflow<2.12,>=2.11.0->tensorflow-text) (0.4.8)\n",
            "Requirement already satisfied: oauthlib>=3.0.0 in /usr/local/lib/python3.9/dist-packages (from requests-oauthlib>=0.7.0->google-auth-oauthlib<0.5,>=0.4.1->tensorboard<2.12,>=2.11->tensorflow<2.12,>=2.11.0->tensorflow-text) (3.2.2)\n",
            "Installing collected packages: tensorflow-text\n",
            "Successfully installed tensorflow-text-2.11.0\n"
          ]
        }
      ],
      "source": [
        "%pip install tensorflow-text"
      ]
    },
    {
      "cell_type": "code",
      "execution_count": null,
      "metadata": {
        "id": "a5xKyrnM0xHo"
      },
      "outputs": [],
      "source": [
        "import pandas as pd\n",
        "import numpy as np\n",
        "import tensorflow as tf\n",
        "import tensorflow_hub as hub\n",
        "import tensorflow_text as text\n",
        "from sklearn.model_selection import train_test_split\n",
        "from sklearn.metrics import accuracy_score, confusion_matrix, f1_score"
      ]
    },
    {
      "cell_type": "code",
      "execution_count": null,
      "metadata": {
        "id": "sQi7m54v06o4"
      },
      "outputs": [],
      "source": [
        "url = \"https://raw.githubusercontent.com/sizeof-malloc/Proyecto-Spear-Phishing/main/fraud_email_.csv\"\n",
        "df = pd.read_csv(url)\n",
        "df = df.dropna()\n",
        "y = df['Class'].values\n",
        "X = df['Text']"
      ]
    },
    {
      "cell_type": "code",
      "execution_count": null,
      "metadata": {
        "id": "f959GPxB1BCM"
      },
      "outputs": [],
      "source": [
        "X_train, X_test, y_train, y_test = train_test_split(X, y, stratify=y, test_size=0.2, random_state=42)\n"
      ]
    },
    {
      "cell_type": "code",
      "execution_count": null,
      "metadata": {
        "id": "_g4wwgc91Fyl"
      },
      "outputs": [],
      "source": [
        "bert_preprocesar = hub.KerasLayer(\"https://tfhub.dev/tensorflow/bert_en_uncased_preprocess/3\")\n",
        "bert_codificador = hub.KerasLayer(\"https://tfhub.dev/tensorflow/bert_en_uncased_L-12_H-768_A-12/4\")"
      ]
    },
    {
      "cell_type": "code",
      "execution_count": null,
      "metadata": {
        "colab": {
          "base_uri": "https://localhost:8080/"
        },
        "id": "agMuwNQj1Rp2",
        "outputId": "e8cf60f4-31ec-46d2-8f9e-caf726c6be29"
      },
      "outputs": [
        {
          "name": "stderr",
          "output_type": "stream",
          "text": [
            "WARNING:tensorflow:From /usr/local/lib/python3.9/dist-packages/tensorflow/python/autograph/pyct/static_analysis/liveness.py:83: Analyzer.lamba_check (from tensorflow.python.autograph.pyct.static_analysis.liveness) is deprecated and will be removed after 2023-09-23.\n",
            "Instructions for updating:\n",
            "Lambda fuctions will be no more assumed to be used in the statement where they are used, or at least in the same block. https://github.com/tensorflow/tensorflow/issues/56089\n"
          ]
        }
      ],
      "source": []
    },
    {
      "cell_type": "code",
      "execution_count": null,
      "metadata": {
        "id": "JxCSVrO_1T2I"
      },
      "outputs": [],
      "source": [
        "l = tf.keras.layers.Dropout(0.1, name=\"dropout\")(salidas['pooled_output'])\n",
        "l = tf.keras.layers.Dense(32, activation='relu', name=\"oculta_1\")(l)\n",
        "l = tf.keras.layers.Dense(1, activation='sigmoid', name=\"salidas\")(l)\n",
        "model = tf.keras.Model(inputs=[entrada_texto], outputs=[l])"
      ]
    },
    {
      "cell_type": "code",
      "execution_count": null,
      "metadata": {
        "id": "1nKZOa6x1f-s"
      },
      "outputs": [],
      "source": [
        "model.compile(optimizer=tf.keras.optimizers.Adam(learning_rate=1e-5),\n",
        "              loss='binary_crossentropy',\n",
        "              metrics=['accuracy', tf.keras.metrics.Recall(), tf.keras.metrics.Precision()])\n"
      ]
    },
    {
      "cell_type": "code",
      "execution_count": null,
      "metadata": {
        "id": "tVGLRvvz1k-4"
      },
      "outputs": [],
      "source": [
        "early_stopping = tf.keras.callbacks.EarlyStopping(monitor='val_loss', patience=3, restore_best_weights=True)\n",
        "checkpoint = tf.keras.callbacks.ModelCheckpoint('best_model.h5', monitor='val_loss', save_best_only=True)"
      ]
    },
    {
      "cell_type": "code",
      "execution_count": null,
      "metadata": {
        "colab": {
          "base_uri": "https://localhost:8080/"
        },
        "id": "NqMjjT7M1o0e",
        "outputId": "98e8979e-acf0-4b22-9cd0-a5f4c7d61f81"
      },
      "outputs": [
        {
          "name": "stdout",
          "output_type": "stream",
          "text": [
            "Epoch 1/20\n",
            "299/299 [==============================] - 693s 2s/step - loss: 0.5532 - accuracy: 0.7627 - recall: 0.6544 - precision: 0.7659 - val_loss: 0.4806 - val_accuracy: 0.8181 - val_recall: 0.7792 - val_precision: 0.7976\n",
            "Epoch 2/20\n",
            "299/299 [==============================] - 665s 2s/step - loss: 0.4590 - accuracy: 0.8107 - recall: 0.7674 - precision: 0.7911 - val_loss: 0.4338 - val_accuracy: 0.8252 - val_recall: 0.7956 - val_precision: 0.8010\n",
            "Epoch 3/20\n",
            "299/299 [==============================] - 662s 2s/step - loss: 0.4237 - accuracy: 0.8246 - recall: 0.8077 - precision: 0.7928 - val_loss: 0.4072 - val_accuracy: 0.8420 - val_recall: 0.8370 - val_precision: 0.8067\n",
            "Epoch 4/20\n",
            "299/299 [==============================] - 656s 2s/step - loss: 0.4004 - accuracy: 0.8351 - recall: 0.8224 - precision: 0.8032 - val_loss: 0.3897 - val_accuracy: 0.8445 - val_recall: 0.8380 - val_precision: 0.8106\n",
            "Epoch 5/20\n",
            "299/299 [==============================] - 656s 2s/step - loss: 0.3810 - accuracy: 0.8427 - recall: 0.8327 - precision: 0.8107 - val_loss: 0.3748 - val_accuracy: 0.8504 - val_recall: 0.8496 - val_precision: 0.8142\n",
            "Epoch 6/20\n",
            "299/299 [==============================] - 652s 2s/step - loss: 0.3680 - accuracy: 0.8491 - recall: 0.8460 - precision: 0.8142 - val_loss: 0.3628 - val_accuracy: 0.8567 - val_recall: 0.8428 - val_precision: 0.8300\n",
            "Epoch 7/20\n",
            "299/299 [==============================] - 648s 2s/step - loss: 0.3553 - accuracy: 0.8529 - recall: 0.8474 - precision: 0.8202 - val_loss: 0.3501 - val_accuracy: 0.8588 - val_recall: 0.8689 - val_precision: 0.8176\n",
            "Epoch 8/20\n",
            "299/299 [==============================] - 659s 2s/step - loss: 0.3438 - accuracy: 0.8604 - recall: 0.8629 - precision: 0.8243 - val_loss: 0.3386 - val_accuracy: 0.8642 - val_recall: 0.8660 - val_precision: 0.8292\n",
            "Epoch 9/20\n",
            "299/299 [==============================] - 664s 2s/step - loss: 0.3307 - accuracy: 0.8677 - recall: 0.8701 - precision: 0.8331 - val_loss: 0.3285 - val_accuracy: 0.8697 - val_recall: 0.8746 - val_precision: 0.8336\n",
            "Epoch 10/20\n",
            "299/299 [==============================] - 649s 2s/step - loss: 0.3202 - accuracy: 0.8758 - recall: 0.8790 - precision: 0.8423 - val_loss: 0.3189 - val_accuracy: 0.8772 - val_recall: 0.8891 - val_precision: 0.8382\n",
            "Epoch 11/20\n",
            "299/299 [==============================] - 655s 2s/step - loss: 0.3106 - accuracy: 0.8797 - recall: 0.8858 - precision: 0.8450 - val_loss: 0.3091 - val_accuracy: 0.8793 - val_recall: 0.8881 - val_precision: 0.8426\n",
            "Epoch 12/20\n",
            "299/299 [==============================] - 655s 2s/step - loss: 0.3046 - accuracy: 0.8806 - recall: 0.8841 - precision: 0.8479 - val_loss: 0.3006 - val_accuracy: 0.8843 - val_recall: 0.8959 - val_precision: 0.8469\n",
            "Epoch 13/20\n",
            "299/299 [==============================] - 654s 2s/step - loss: 0.2934 - accuracy: 0.8905 - recall: 0.8956 - precision: 0.8586 - val_loss: 0.2922 - val_accuracy: 0.8864 - val_recall: 0.8949 - val_precision: 0.8514\n",
            "Epoch 14/20\n",
            "299/299 [==============================] - 661s 2s/step - loss: 0.2877 - accuracy: 0.8906 - recall: 0.8949 - precision: 0.8593 - val_loss: 0.2848 - val_accuracy: 0.8873 - val_recall: 0.8978 - val_precision: 0.8510\n",
            "Epoch 15/20\n",
            "299/299 [==============================] - 647s 2s/step - loss: 0.2797 - accuracy: 0.8915 - recall: 0.8923 - precision: 0.8629 - val_loss: 0.2773 - val_accuracy: 0.8935 - val_recall: 0.8978 - val_precision: 0.8628\n",
            "Epoch 16/20\n",
            "299/299 [==============================] - 647s 2s/step - loss: 0.2711 - accuracy: 0.8991 - recall: 0.9014 - precision: 0.8710 - val_loss: 0.2701 - val_accuracy: 0.8986 - val_recall: 0.9007 - val_precision: 0.8705\n",
            "Epoch 17/20\n",
            "299/299 [==============================] - 656s 2s/step - loss: 0.2656 - accuracy: 0.9005 - recall: 0.9024 - precision: 0.8731 - val_loss: 0.2635 - val_accuracy: 0.9003 - val_recall: 0.8997 - val_precision: 0.8744\n",
            "Epoch 18/20\n",
            "299/299 [==============================] - 645s 2s/step - loss: 0.2570 - accuracy: 0.9061 - recall: 0.9084 - precision: 0.8796 - val_loss: 0.2574 - val_accuracy: 0.9032 - val_recall: 0.8968 - val_precision: 0.8824\n",
            "Epoch 19/20\n",
            "299/299 [==============================] - 663s 2s/step - loss: 0.2528 - accuracy: 0.9086 - recall: 0.9087 - precision: 0.8844 - val_loss: 0.2518 - val_accuracy: 0.9091 - val_recall: 0.8949 - val_precision: 0.8958\n",
            "Epoch 20/20\n",
            "299/299 [==============================] - 668s 2s/step - loss: 0.2489 - accuracy: 0.9114 - recall: 0.9099 - precision: 0.8891 - val_loss: 0.2452 - val_accuracy: 0.9091 - val_recall: 0.9026 - val_precision: 0.8897\n"
          ]
        }
      ],
      "source": [
        "history = model.fit(X_train, np.array(y_train), epochs=20, batch_size=32,\n",
        "                    validation_data=(X_test, np.array(y_test)),\n",
        "                    callbacks=[early_stopping, checkpoint])"
      ]
    },
    {
      "cell_type": "code",
      "execution_count": null,
      "metadata": {
        "id": "N-HuXunr12SF"
      },
      "outputs": [],
      "source": [
        "model = tf.keras.models.load_model('best_model.h5', custom_objects={'KerasLayer': hub.KerasLayer})"
      ]
    },
    {
      "cell_type": "code",
      "execution_count": null,
      "metadata": {
        "colab": {
          "base_uri": "https://localhost:8080/"
        },
        "id": "APSmuG4f17d1",
        "outputId": "fb1938ea-52dd-4632-93db-a6b042b0715f"
      },
      "outputs": [
        {
          "name": "stdout",
          "output_type": "stream",
          "text": [
            "75/75 [==============================] - 133s 2s/step\n"
          ]
        }
      ],
      "source": [
        "y_pred = model.predict(X_test)\n",
        "y_pred_class = np.round(y_pred).flatten()"
      ]
    },
    {
      "cell_type": "code",
      "execution_count": null,
      "metadata": {
        "id": "nATYi_jC2Gdk"
      },
      "outputs": [],
      "source": [
        "accuracy = accuracy_score(y_test, y_pred_class)\n",
        "recall = tf.keras.metrics.Recall()(y_test, y_pred_class)\n",
        "precision = tf.keras.metrics.Precision()(y_test, y_pred_class)\n",
        "f1 = f1_score(y_test, y_pred_class)"
      ]
    },
    {
      "cell_type": "code",
      "execution_count": null,
      "metadata": {
        "colab": {
          "base_uri": "https://localhost:8080/"
        },
        "id": "QNERZHMJ2OAp",
        "outputId": "5c0ce6ce-a658-4305-c25c-79659f328fec"
      },
      "outputs": [
        {
          "name": "stdout",
          "output_type": "stream",
          "text": [
            "Accuracy:  0.9090528080469404\n",
            "Recall:  0.9026037\n",
            "Precision:  0.88973385\n",
            "F1-score:  0.8961225466730492\n"
          ]
        }
      ],
      "source": [
        "print(\"Accuracy: \", accuracy)\n",
        "print(\"Recall: \", recall.numpy())\n",
        "print(\"Precision: \", precision.numpy())\n",
        "print(\"F1-score: \", f1)"
      ]
    },
    {
      "cell_type": "code",
      "execution_count": null,
      "metadata": {
        "id": "w0tdq5gc2Tc1"
      },
      "outputs": [],
      "source": [
        "conf_matrix = confusion_matrix(y_test, y_pred_class)\n",
        "print(\"Confusion Matrix:\\n\", conf_matrix)"
      ]
    },
    {
      "cell_type": "code",
      "execution_count": null,
      "metadata": {
        "id": "6h8wvVSam_o-"
      },
      "outputs": [],
      "source": [
        "import matplotlib.pyplot as plt\n"
      ]
    },
    {
      "cell_type": "code",
      "execution_count": null,
      "metadata": {
        "id": "jCFJg8dUnFaf"
      },
      "outputs": [],
      "source": [
        "def plot_history(history):\n",
        "    fig, axes = plt.subplots(2, 2, figsize=(12, 8))\n",
        "\n",
        "    axes[0, 0].plot(history.history['accuracy'], label='Train Accuracy')\n",
        "    axes[0, 0].plot(history.history['val_accuracy'], label='Validation Accuracy')\n",
        "    axes[0, 0].set_title('Accuracy')\n",
        "    axes[0, 0].legend()\n",
        "\n",
        "    axes[0, 1].plot(history.history['recall'], label='Train Recall')\n",
        "    axes[0, 1].plot(history.history['val_recall'], label='Validation Recall')\n",
        "    axes[0, 1].set_title('Recall')\n",
        "    axes[0, 1].legend()\n",
        "\n",
        "    axes[1, 0].plot(history.history['precision'], label='Train Precision')\n",
        "    axes[1, 0].plot(history.history['val_precision'], label='Validation Precision')\n",
        "    axes[1, 0].set_title('Precision')\n",
        "    axes[1, 0].legend()\n",
        "\n",
        "    axes[1, 1].plot(history.history['loss'], label='Train Loss')\n",
        "    axes[1, 1].plot(history.history['val_loss'], label='Validation Loss')\n",
        "    axes[1, 1].set_title('Loss')\n",
        "    axes[1, 1].legend()\n",
        "\n",
        "    plt.tight_layout()\n",
        "    plt.show()\n"
      ]
    },
    {
      "cell_type": "code",
      "execution_count": null,
      "metadata": {
        "colab": {
          "base_uri": "https://localhost:8080/",
          "height": 585
        },
        "id": "jN0IDZSXnIjq",
        "outputId": "757815d6-5be3-4630-9918-244f04a95ca0"
      },
      "outputs": [
        {
          "data": {
            "image/png": "[encoded data removed]",
            "text/plain": [
              "<Figure size 864x576 with 4 Axes>"
            ]
          },
          "metadata": {},
          "output_type": "display_data"
        }
      ],
      "source": [
        "plot_history(history)\n"
      ]
    }
  ],
  "metadata": {
    "accelerator": "GPU",
    "colab": {
      "machine_shape": "hm",
      "provenance": [],
      "include_colab_link": true
    },
    "gpuClass": "standard",
    "kernelspec": {
      "display_name": "Python 3",
      "language": "python",
      "name": "python3"
    },
    "language_info": {
      "codemirror_mode": {
        "name": "ipython",
        "version": 3
      },
      "file_extension": ".py",
      "mimetype": "text/x-python",
      "name": "python",
      "nbconvert_exporter": "python",
      "pygments_lexer": "ipython3",
      "version": "3.8.5"
    }
  },
  "nbformat": 4,
  "nbformat_minor": 0
}